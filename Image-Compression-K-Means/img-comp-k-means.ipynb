{
 "cells": [
  {
   "cell_type": "code",
   "execution_count": 1,
   "metadata": {},
   "outputs": [],
   "source": [
    "import os\n",
    "import numpy as np\n",
    "import matplotlib.pyplot as plt\n",
    "import matplotlib.image as image\n",
    "\n",
    "from skimage import io\n",
    "from sklearn.cluster import KMeans, MiniBatchKMeans\n",
    "\n",
    "from ipywidgets import interact, interactive, fixed, interact_manual, IntSlider\n",
    "import ipywidgets as widgets\n",
    "\n",
    "%matplotlib inline"
   ]
  },
  {
   "cell_type": "code",
   "execution_count": 7,
   "metadata": {},
   "outputs": [
    {
     "data": {
      "application/vnd.jupyter.widget-view+json": {
       "model_id": "cc1be8195a4b417aa50ca47cf0289d02",
       "version_major": 2,
       "version_minor": 0
      },
      "text/plain": [
       "interactive(children=(Dropdown(description='image', options=('.DS_Store', 'peacock.jpg', 'Saint-Basils-Cathedr…"
      ]
     },
     "metadata": {},
     "output_type": "display_data"
    }
   ],
   "source": [
    "plt.rcParams['figure.figsize'] = (20, 12)\n",
    "img_dir = 'images/'\n",
    "@interact\n",
    "def image_compression(image=os.listdir(img_dir), k=IntSlider(min=1,max=64,step=1,value=16,\n",
    "                                                             continuous_update=False)):\n",
    "    \n",
    "    input_image = io.imread(img_dir + image)\n",
    "    rows = input_image.shape[0]\n",
    "    cols = input_image.shape[1]\n",
    "    image_data = (input_image/255.0).reshape(-1, 3)\n",
    "    \n",
    "    kmeans = KMeans(n_clusters=k)\n",
    "    kmeans.fit(image_data)\n",
    "    \n",
    "    compressed_image = kmeans.cluster_centers_[kmeans.labels_]\n",
    "    compressed_image = compressed_image.reshape((rows, cols, 3))\n",
    "    \n",
    "    fig, (ax1, ax2) = plt.subplots(1, 2)\n",
    "\n",
    "    print(\"Compression factor: {tot}/{k} = {d}\".format(tot=256**3, k=k, d=256**3/k))\n",
    "    fig.suptitle(\"Image Compression using K-Means\", fontsize=25)\n",
    "    ax1.set_title(\"Original Image\")\n",
    "    ax1.imshow(input_image)\n",
    "    ax1.set_xticks([])\n",
    "    ax1.set_yticks([])\n",
    "    ax2.set_title(\"Compressed Image\")\n",
    "    ax2.imshow(compressed_image)\n",
    "    plt.show()"
   ]
  },
  {
   "cell_type": "code",
   "execution_count": 6,
   "metadata": {},
   "outputs": [
    {
     "data": {
      "application/vnd.jupyter.widget-view+json": {
       "model_id": "63e2300883db4c518dc0f933d2ef603c",
       "version_major": 2,
       "version_minor": 0
      },
      "text/plain": [
       "interactive(children=(Dropdown(description='image', options=('.DS_Store', 'peacock.jpg', 'Saint-Basils-Cathedr…"
      ]
     },
     "metadata": {},
     "output_type": "display_data"
    }
   ],
   "source": [
    "img_dir = 'images/'\n",
    "@interact\n",
    "def image_compression_minibatch(image=os.listdir(img_dir), k=IntSlider(min=1, max=64, step=1, value=16,\n",
    "                                                             continuous_update=False)):\n",
    "    \n",
    "    input_image = io.imread(img_dir + image)\n",
    "    rows = input_image.shape[0]\n",
    "    cols = input_image.shape[1]\n",
    "    image_data = (input_image/255.0).reshape(-1, 3)\n",
    "    \n",
    "    kmeans = MiniBatchKMeans(n_clusters=k)\n",
    "    kmeans.fit(image_data)\n",
    "    \n",
    "    compressed_image = kmeans.cluster_centers_[kmeans.labels_]\n",
    "    compressed_image = compressed_image.reshape((rows, cols, 3))\n",
    "    \n",
    "    fig, (ax1, ax2) = plt.subplots(1, 2)\n",
    "\n",
    "    print(\"Compression factor: {tot}/{k} = {d}\".format(tot=256**3, k=k, d=256**3/k))\n",
    "    fig.suptitle(\"Image Compression using K-Means\", fontsize=25)\n",
    "    ax1.set_title(\"Original Image\")\n",
    "    ax1.imshow(input_image)\n",
    "    ax1.set_xticks([])\n",
    "    ax1.set_yticks([])\n",
    "    ax2.set_title(\"Compressed Image\")\n",
    "    ax2.imshow(compressed_image)\n",
    "    plt.show()\n"
   ]
  },
  {
   "cell_type": "code",
   "execution_count": null,
   "metadata": {},
   "outputs": [],
   "source": []
  }
 ],
 "metadata": {
  "kernelspec": {
   "display_name": "Python 3",
   "language": "python",
   "name": "python3"
  },
  "language_info": {
   "codemirror_mode": {
    "name": "ipython",
    "version": 3
   },
   "file_extension": ".py",
   "mimetype": "text/x-python",
   "name": "python",
   "nbconvert_exporter": "python",
   "pygments_lexer": "ipython3",
   "version": "3.7.6"
  }
 },
 "nbformat": 4,
 "nbformat_minor": 4
}
