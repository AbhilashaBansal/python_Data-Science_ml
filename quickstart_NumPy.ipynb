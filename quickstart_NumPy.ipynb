{
 "cells": [
  {
   "cell_type": "code",
   "execution_count": 1,
   "metadata": {},
   "outputs": [],
   "source": [
    "import numpy as np "
   ]
  },
  {
   "cell_type": "code",
   "execution_count": 3,
   "metadata": {},
   "outputs": [
    {
     "name": "stdout",
     "output_type": "stream",
     "text": [
      "[1 2 3 4]\n",
      "<class 'numpy.ndarray'>\n",
      "(4,)\n"
     ]
    }
   ],
   "source": [
    "#array creation\n",
    "a = np.array([1,2,3,4])\n",
    "print(a)\n",
    "print(type(a))\n",
    "print(a.shape)"
   ]
  },
  {
   "cell_type": "code",
   "execution_count": 4,
   "metadata": {},
   "outputs": [
    {
     "name": "stdout",
     "output_type": "stream",
     "text": [
      "[[1 2 3 4]\n",
      " [5 6 7 8]]\n"
     ]
    },
    {
     "data": {
      "text/plain": [
       "(2, 4)"
      ]
     },
     "execution_count": 4,
     "metadata": {},
     "output_type": "execute_result"
    }
   ],
   "source": [
    "b = np.array([[1,2,3,4],[5,6,7,8]])\n",
    "print(b)\n",
    "b.shape"
   ]
  },
  {
   "cell_type": "code",
   "execution_count": 5,
   "metadata": {},
   "outputs": [
    {
     "data": {
      "text/plain": [
       "array([[1, 5],\n",
       "       [2, 6],\n",
       "       [3, 7],\n",
       "       [4, 8]])"
      ]
     },
     "execution_count": 5,
     "metadata": {},
     "output_type": "execute_result"
    }
   ],
   "source": [
    "#Transpose\n",
    "b.T"
   ]
  },
  {
   "cell_type": "code",
   "execution_count": 6,
   "metadata": {},
   "outputs": [
    {
     "name": "stdout",
     "output_type": "stream",
     "text": [
      "[[ 30  70]\n",
      " [ 70 174]]\n"
     ]
    }
   ],
   "source": [
    "#Dot Product\n",
    "print(np.dot(b,b.T))"
   ]
  },
  {
   "cell_type": "code",
   "execution_count": 7,
   "metadata": {},
   "outputs": [
    {
     "name": "stdout",
     "output_type": "stream",
     "text": [
      "[75 85 94 83 63 98 77 65 58 57]\n"
     ]
    }
   ],
   "source": [
    "#Making an array of random numbers\n",
    "c = np.random.randint(50,100,10)\n",
    "print(c)"
   ]
  },
  {
   "cell_type": "code",
   "execution_count": 9,
   "metadata": {},
   "outputs": [
    {
     "name": "stdout",
     "output_type": "stream",
     "text": [
      "[[16 21 13  2 28]\n",
      " [20  4 11 49 18]\n",
      " [23 37  5 30 47]\n",
      " [ 6 32  1  3 21]\n",
      " [31 41 37 17 12]]\n"
     ]
    }
   ],
   "source": [
    "d = np.random.randint(1,50,(5,5))\n",
    "print(d)"
   ]
  },
  {
   "cell_type": "code",
   "execution_count": 11,
   "metadata": {},
   "outputs": [
    {
     "name": "stdout",
     "output_type": "stream",
     "text": [
      "49\n",
      "1\n",
      "4\n"
     ]
    }
   ],
   "source": [
    "# min/ max values\n",
    "print(np.max(d))\n",
    "print(np.min(d))\n",
    "print(np.max(a))"
   ]
  },
  {
   "cell_type": "code",
   "execution_count": 12,
   "metadata": {},
   "outputs": [
    {
     "data": {
      "text/plain": [
       "array([0, 1, 2, 3])"
      ]
     },
     "execution_count": 12,
     "metadata": {},
     "output_type": "execute_result"
    }
   ],
   "source": [
    "#unique values in array\n",
    "e = np.array([1,0,2,2,3,1,3,2,2,0,1,3])\n",
    "np.unique(e)"
   ]
  },
  {
   "cell_type": "code",
   "execution_count": 13,
   "metadata": {},
   "outputs": [
    {
     "name": "stdout",
     "output_type": "stream",
     "text": [
      "(array([0, 1, 2, 3]), array([2, 3, 4, 3]))\n"
     ]
    }
   ],
   "source": [
    "f = np.unique(e, return_counts=True)\n",
    "print(f)"
   ]
  },
  {
   "cell_type": "code",
   "execution_count": 16,
   "metadata": {},
   "outputs": [
    {
     "name": "stdout",
     "output_type": "stream",
     "text": [
      "[0 1 2 3]\n",
      "[2 3 4 3]\n"
     ]
    }
   ],
   "source": [
    "print(f[0])\n",
    "print(f[1])"
   ]
  },
  {
   "cell_type": "code",
   "execution_count": 17,
   "metadata": {},
   "outputs": [
    {
     "name": "stdout",
     "output_type": "stream",
     "text": [
      "2\n"
     ]
    }
   ],
   "source": [
    "#finding element with max freq\n",
    "index = np.argmax(f[1])\n",
    "element = f[0][index]\n",
    "print(element)"
   ]
  },
  {
   "cell_type": "code",
   "execution_count": 23,
   "metadata": {},
   "outputs": [
    {
     "name": "stdout",
     "output_type": "stream",
     "text": [
      "[[1 2 3]\n",
      " [4 5 6]\n",
      " [7 8 9]]\n",
      "[[4 5]\n",
      " [7 8]]\n"
     ]
    }
   ],
   "source": [
    "#Slicing\n",
    "matrix = np.array([[1,2,3],[4,5,6],[7,8,9]])\n",
    "print(matrix)\n",
    "print(matrix[1:3,0:2])"
   ]
  },
  {
   "cell_type": "code",
   "execution_count": 24,
   "metadata": {},
   "outputs": [
    {
     "data": {
      "text/plain": [
       "5"
      ]
     },
     "execution_count": 24,
     "metadata": {},
     "output_type": "execute_result"
    }
   ],
   "source": [
    "#indexing is normal\n",
    "matrix[1][1]"
   ]
  },
  {
   "cell_type": "code",
   "execution_count": 34,
   "metadata": {},
   "outputs": [
    {
     "name": "stdout",
     "output_type": "stream",
     "text": [
      "[[0. 0. 0.]\n",
      " [0. 0. 0.]\n",
      " [0. 0. 0.]]\n",
      "[[1. 1. 1.]\n",
      " [1. 1. 1.]\n",
      " [1. 1. 1.]]\n",
      "[[1. 1. 6.]\n",
      " [5. 5. 6.]\n",
      " [1. 1. 6.]]\n"
     ]
    },
    {
     "data": {
      "text/plain": [
       "dtype('float64')"
      ]
     },
     "execution_count": 34,
     "metadata": {},
     "output_type": "execute_result"
    }
   ],
   "source": [
    "#Working with Matrices\n",
    "a = np.zeros((3,3))\n",
    "print(a)\n",
    "b =np.ones((3,3))\n",
    "print(b)\n",
    "#reassignment\n",
    "b[1,:] = 5\n",
    "b[:,-1] = 6 #last row or col can be indexed as -1\n",
    "print(b)\n",
    "a.dtype"
   ]
  },
  {
   "cell_type": "code",
   "execution_count": 32,
   "metadata": {},
   "outputs": [
    {
     "name": "stdout",
     "output_type": "stream",
     "text": [
      "[[5 5]\n",
      " [5 5]\n",
      " [5 5]]\n",
      "[[1. 0. 0. 0.]\n",
      " [0. 1. 0. 0.]\n",
      " [0. 0. 1. 0.]\n",
      " [0. 0. 0. 1.]]\n"
     ]
    }
   ],
   "source": [
    "c=np.full((3,2),5)\n",
    "print(c)\n",
    "#identity matrix\n",
    "d = np.eye((4))\n",
    "print(d)"
   ]
  },
  {
   "cell_type": "code",
   "execution_count": 33,
   "metadata": {},
   "outputs": [
    {
     "data": {
      "text/plain": [
       "array([[0.41902663, 0.96710692],\n",
       "       [0.10428333, 0.39680794],\n",
       "       [0.85377773, 0.9250285 ]])"
      ]
     },
     "execution_count": 33,
     "metadata": {},
     "output_type": "execute_result"
    }
   ],
   "source": [
    "#random matrix generation \n",
    "random_matrix = np.random.random((3,2))\n",
    "random_matrix"
   ]
  },
  {
   "cell_type": "code",
   "execution_count": 37,
   "metadata": {},
   "outputs": [
    {
     "name": "stdout",
     "output_type": "stream",
     "text": [
      "[[ 4  6]\n",
      " [12 14]]\n",
      "[[ 4  6]\n",
      " [12 14]]\n"
     ]
    }
   ],
   "source": [
    "#Operations on Matrix\n",
    "x = np.array([[1,2],[5,6]])\n",
    "y = np.array([[3,4],[7,8]])\n",
    "print(x+y)\n",
    "print(np.add(x,y))"
   ]
  },
  {
   "cell_type": "code",
   "execution_count": 38,
   "metadata": {},
   "outputs": [
    {
     "name": "stdout",
     "output_type": "stream",
     "text": [
      "[[-2 -2]\n",
      " [-2 -2]]\n",
      "[[-2 -2]\n",
      " [-2 -2]]\n",
      "[[ 3  8]\n",
      " [35 48]]\n",
      "[[ 3  8]\n",
      " [35 48]]\n"
     ]
    }
   ],
   "source": [
    "print(x-y)\n",
    "print(np.subtract(x,y))\n",
    "print(x*y)\n",
    "print(np.multiply(x,y)) #element wise multiplication, not matrix multilication "
   ]
  },
  {
   "cell_type": "code",
   "execution_count": 39,
   "metadata": {},
   "outputs": [
    {
     "name": "stdout",
     "output_type": "stream",
     "text": [
      "[[0.33333333 0.5       ]\n",
      " [0.71428571 0.75      ]]\n"
     ]
    },
    {
     "data": {
      "text/plain": [
       "array([[0.33333333, 0.5       ],\n",
       "       [0.71428571, 0.75      ]])"
      ]
     },
     "execution_count": 39,
     "metadata": {},
     "output_type": "execute_result"
    }
   ],
   "source": [
    "#element wise division\n",
    "print(x/y)\n",
    "np.divide(x,y)"
   ]
  },
  {
   "cell_type": "code",
   "execution_count": 47,
   "metadata": {},
   "outputs": [
    {
     "name": "stdout",
     "output_type": "stream",
     "text": [
      "[[17 20]\n",
      " [57 68]]\n",
      "[[17 20]\n",
      " [57 68]]\n",
      "[[1 2]\n",
      " [5 6]]\n",
      "14\n",
      "[6 8]\n",
      "[ 3 11]\n"
     ]
    }
   ],
   "source": [
    "#MATRIX MULTIPLICATION\n",
    "print(x.dot(y))\n",
    "print(np.dot(x,y))\n",
    "print(x)\n",
    "print(np.sum(x))\n",
    "print(np.sum(x, axis=0)) #sum along columns\n",
    "print(np.sum(x, axis=1)) #sum along rows"
   ]
  },
  {
   "cell_type": "code",
   "execution_count": 44,
   "metadata": {},
   "outputs": [
    {
     "name": "stdout",
     "output_type": "stream",
     "text": [
      "70\n",
      "26\n"
     ]
    }
   ],
   "source": [
    "#multiplication of vectors\n",
    "m = np.array([1,2,3,4])\n",
    "n = np.array([5,6,7,8])\n",
    "print(m.dot(n))\n",
    "print(sum(n))"
   ]
  },
  {
   "cell_type": "code",
   "execution_count": 52,
   "metadata": {},
   "outputs": [
    {
     "name": "stdout",
     "output_type": "stream",
     "text": [
      "[25 36 49 64]\n"
     ]
    }
   ],
   "source": [
    "#Stacking of arrays\n",
    "a = np.array([1,2,3,4])\n",
    "b = np.array([5,6,7,8])\n",
    "b=b**2\n",
    "print(b)"
   ]
  },
  {
   "cell_type": "code",
   "execution_count": 53,
   "metadata": {},
   "outputs": [
    {
     "data": {
      "text/plain": [
       "array([[ 1,  2,  3,  4],\n",
       "       [25, 36, 49, 64]])"
      ]
     },
     "execution_count": 53,
     "metadata": {},
     "output_type": "execute_result"
    }
   ],
   "source": [
    "np.stack((a,b), axis=0)\n",
    "#stacking vertically"
   ]
  },
  {
   "cell_type": "code",
   "execution_count": 55,
   "metadata": {},
   "outputs": [
    {
     "name": "stdout",
     "output_type": "stream",
     "text": [
      "[[ 1 25]\n",
      " [ 2 36]\n",
      " [ 3 49]\n",
      " [ 4 64]]\n"
     ]
    }
   ],
   "source": [
    "c = np.stack((a,b), axis=1)\n",
    "print(c)\n",
    "#stacking horizontally, side by side"
   ]
  },
  {
   "cell_type": "code",
   "execution_count": 56,
   "metadata": {},
   "outputs": [],
   "source": [
    "c = c.reshape((2,4)) #reshaping"
   ]
  },
  {
   "cell_type": "code",
   "execution_count": 57,
   "metadata": {},
   "outputs": [
    {
     "data": {
      "text/plain": [
       "array([[ 1, 25,  2, 36],\n",
       "       [ 3, 49,  4, 64]])"
      ]
     },
     "execution_count": 57,
     "metadata": {},
     "output_type": "execute_result"
    }
   ],
   "source": [
    "c"
   ]
  },
  {
   "cell_type": "code",
   "execution_count": 60,
   "metadata": {},
   "outputs": [
    {
     "data": {
      "text/plain": [
       "array([[ 1],\n",
       "       [25],\n",
       "       [ 2],\n",
       "       [36],\n",
       "       [ 3],\n",
       "       [49],\n",
       "       [ 4],\n",
       "       [64]])"
      ]
     },
     "execution_count": 60,
     "metadata": {},
     "output_type": "execute_result"
    }
   ],
   "source": [
    "d = c.reshape((8,1))\n",
    "d"
   ]
  },
  {
   "cell_type": "code",
   "execution_count": 64,
   "metadata": {},
   "outputs": [
    {
     "name": "stdout",
     "output_type": "stream",
     "text": [
      "[[ 1 25  2 36]\n",
      " [ 3 49  4 64]]\n",
      "[[ 1]\n",
      " [25]\n",
      " [ 2]\n",
      " [36]\n",
      " [ 3]\n",
      " [49]\n",
      " [ 4]\n",
      " [64]]\n"
     ]
    }
   ],
   "source": [
    "e=c.reshape((2,-1)) #automatically picks up other dimension, if possible\n",
    "f=c.reshape((-1,1))\n",
    "print(e)\n",
    "print(f)"
   ]
  },
  {
   "cell_type": "code",
   "execution_count": 71,
   "metadata": {},
   "outputs": [
    {
     "name": "stdout",
     "output_type": "stream",
     "text": [
      "[ 0  1  2  3  4  5  6  7  8  9 10 11 12 13 14 15 16 17 18 19]\n",
      "[ 5  6  7  8  9 10 11 12 13 14 15 16 17 18 19 20 21 22 23 24]\n",
      "[20 10 13  6 22 24 11  7  9 12 18 17 14 23 15 16  5 19 21  8]\n"
     ]
    }
   ],
   "source": [
    "#RANDOM GENERATORS IN NUMPY\n",
    "#1 List from range\n",
    "a = np.arange(20)\n",
    "print(a)\n",
    "a = a+5\n",
    "print(a)\n",
    "np.random.shuffle(a) #shuffles the contents of a sequence\n",
    "print(a)"
   ]
  },
  {
   "cell_type": "code",
   "execution_count": 74,
   "metadata": {},
   "outputs": [
    {
     "name": "stdout",
     "output_type": "stream",
     "text": [
      "[[0.95034194 0.64071353]\n",
      " [0.19527966 0.81378303]\n",
      " [0.54128311 0.5056348 ]]\n",
      "[[0.78681498 0.27170617 0.60330704 0.14531379]\n",
      " [0.16168206 0.52788013 0.24863431 0.12044491]\n",
      " [0.17964407 0.74376571 0.19166728 0.2815582 ]]\n"
     ]
    }
   ],
   "source": [
    "#2 Usinf rand/ random\n",
    "p = np.random.random((3,2))\n",
    "print(p)\n",
    "r = np.random.rand(3,4)\n",
    "print(r)"
   ]
  },
  {
   "cell_type": "code",
   "execution_count": 76,
   "metadata": {},
   "outputs": [
    {
     "data": {
      "text/plain": [
       "array([[-0.48583234, -0.79817114],\n",
       "       [-0.12679422,  0.10759252]])"
      ]
     },
     "execution_count": 76,
     "metadata": {},
     "output_type": "execute_result"
    }
   ],
   "source": [
    "#3 Random values that form a std normal deviation\n",
    "c = np.random.randn(2,2)\n",
    "c"
   ]
  },
  {
   "cell_type": "code",
   "execution_count": 77,
   "metadata": {},
   "outputs": [
    {
     "data": {
      "text/plain": [
       "array([89, 91, 24, 92, 49, 38,  4, 89, 27, 11, 90, 12, 83,  5, 16])"
      ]
     },
     "execution_count": 77,
     "metadata": {},
     "output_type": "execute_result"
    }
   ],
   "source": [
    "#4 List/array of random numbers, from given range, say (1,100)\n",
    "d = np.random.randint(1,100,15)\n",
    "d"
   ]
  },
  {
   "cell_type": "code",
   "execution_count": 79,
   "metadata": {},
   "outputs": [
    {
     "data": {
      "text/plain": [
       "1"
      ]
     },
     "execution_count": 79,
     "metadata": {},
     "output_type": "execute_result"
    }
   ],
   "source": [
    "#5 Selecting a random value from a sequence\n",
    "elt = np.random.choice([1,2,3,4,5,6,7,8,9,10])\n",
    "elt"
   ]
  },
  {
   "cell_type": "code",
   "execution_count": 80,
   "metadata": {},
   "outputs": [],
   "source": [
    "#to generate the same random values every time your code is run, give some constant seed value\n",
    "#eg: np.random.seed(1)"
   ]
  },
  {
   "cell_type": "code",
   "execution_count": 82,
   "metadata": {},
   "outputs": [
    {
     "name": "stdout",
     "output_type": "stream",
     "text": [
      "1 8 [1 2 3 4] [1 5]\n"
     ]
    }
   ],
   "source": [
    "#STATISTICAL COMPUTATION USING NUMPY\n",
    "p = np.array([[1,2,3,4],[5,6,7,8]])\n",
    "print(np.min(p), np.max(p), np.min(p, axis=0), np.min(p, axis=1))"
   ]
  },
  {
   "cell_type": "code",
   "execution_count": 84,
   "metadata": {},
   "outputs": [
    {
     "name": "stdout",
     "output_type": "stream",
     "text": [
      "3.0\n",
      "3.0\n",
      "[3. 4. 5. 6.] [2.5 6.5]\n"
     ]
    }
   ],
   "source": [
    "#Mean\n",
    "q=np.array([1,2,3,4,5])\n",
    "m = sum(q)/5\n",
    "print(m)\n",
    "print(np.mean(q))\n",
    "print(np.mean(p, axis=0), np.mean(p, axis=1))"
   ]
  },
  {
   "cell_type": "code",
   "execution_count": 85,
   "metadata": {},
   "outputs": [
    {
     "name": "stdout",
     "output_type": "stream",
     "text": [
      "5.0\n"
     ]
    }
   ],
   "source": [
    "#Median\n",
    "c = np.array([1,2,3,5,5,6,6,6,7])\n",
    "print(np.median(c))"
   ]
  },
  {
   "cell_type": "code",
   "execution_count": 86,
   "metadata": {},
   "outputs": [
    {
     "name": "stdout",
     "output_type": "stream",
     "text": [
      "3.0\n",
      "3.6666666666666665\n"
     ]
    }
   ],
   "source": [
    "#Weighted average\n",
    "w = np.array([1,2,3,4,5])\n",
    "a = np.array([1,2,3,4,5])\n",
    "print(np.mean(a))\n",
    "print(np.average(a, weights=w))"
   ]
  },
  {
   "cell_type": "code",
   "execution_count": 87,
   "metadata": {},
   "outputs": [
    {
     "data": {
      "text/plain": [
       "1.4142135623730951"
      ]
     },
     "execution_count": 87,
     "metadata": {},
     "output_type": "execute_result"
    }
   ],
   "source": [
    "#Std Deviation/ Variance\n",
    "u = np.mean(a)\n",
    "myStd = np.sqrt(np.mean(abs(u-a)**2)) #manually calculating std dev\n",
    "myStd"
   ]
  },
  {
   "cell_type": "code",
   "execution_count": 88,
   "metadata": {},
   "outputs": [
    {
     "data": {
      "text/plain": [
       "1.4142135623730951"
      ]
     },
     "execution_count": 88,
     "metadata": {},
     "output_type": "execute_result"
    }
   ],
   "source": [
    "std = np.std(a) #using fn\n",
    "std"
   ]
  },
  {
   "cell_type": "code",
   "execution_count": 90,
   "metadata": {},
   "outputs": [
    {
     "name": "stdout",
     "output_type": "stream",
     "text": [
      "2.0000000000000004\n"
     ]
    },
    {
     "data": {
      "text/plain": [
       "2.0"
      ]
     },
     "execution_count": 90,
     "metadata": {},
     "output_type": "execute_result"
    }
   ],
   "source": [
    "#variance\n",
    "print(std**2)\n",
    "v=np.var(a) #using fn\n",
    "v"
   ]
  },
  {
   "cell_type": "code",
   "execution_count": null,
   "metadata": {},
   "outputs": [],
   "source": [
    "#end"
   ]
  }
 ],
 "metadata": {
  "kernelspec": {
   "display_name": "Python 3",
   "language": "python",
   "name": "python3"
  },
  "language_info": {
   "codemirror_mode": {
    "name": "ipython",
    "version": 3
   },
   "file_extension": ".py",
   "mimetype": "text/x-python",
   "name": "python",
   "nbconvert_exporter": "python",
   "pygments_lexer": "ipython3",
   "version": "3.7.6"
  }
 },
 "nbformat": 4,
 "nbformat_minor": 4
}
